{
  "nbformat": 4,
  "nbformat_minor": 0,
  "metadata": {
    "colab": {
      "provenance": []
    },
    "kernelspec": {
      "name": "python3",
      "display_name": "Python 3"
    },
    "language_info": {
      "name": "python"
    }
  },
  "cells": [
    {
      "cell_type": "code",
      "execution_count": null,
      "metadata": {
        "id": "4ievgj1lfS9d"
      },
      "outputs": [],
      "source": [
        "import nltk\n",
        "from nltk.tokenize import word_tokenize\n",
        "from nltk import pos_tag"
      ]
    },
    {
      "cell_type": "code",
      "source": [
        "# Download NLTK data\n",
        "nltk.download('punkt')\n",
        "nltk.download('averaged_perceptron_tagger')"
      ],
      "metadata": {
        "colab": {
          "base_uri": "https://localhost:8080/"
        },
        "id": "JFP88q_-fhHW",
        "outputId": "a825d518-976c-4900-f027-1f679c62b2f2"
      },
      "execution_count": null,
      "outputs": [
        {
          "output_type": "stream",
          "name": "stderr",
          "text": [
            "[nltk_data] Downloading package punkt to /root/nltk_data...\n",
            "[nltk_data]   Package punkt is already up-to-date!\n",
            "[nltk_data] Downloading package averaged_perceptron_tagger to\n",
            "[nltk_data]     /root/nltk_data...\n",
            "[nltk_data]   Package averaged_perceptron_tagger is already up-to-\n",
            "[nltk_data]       date!\n"
          ]
        },
        {
          "output_type": "execute_result",
          "data": {
            "text/plain": [
              "True"
            ]
          },
          "metadata": {},
          "execution_count": 5
        }
      ]
    },
    {
      "cell_type": "code",
      "source": [
        "# Sample text\n",
        "text=\"\"\"My name is Vamsiteja. I'm from Andhra Pradesh and I'm  currently pursuing BE CSE AIML from Chandigarh University.\"\"\"\n",
        "# Tokenize the text\n",
        "words = word_tokenize(text)"
      ],
      "metadata": {
        "id": "tpemeOLffi91"
      },
      "execution_count": null,
      "outputs": []
    },
    {
      "cell_type": "code",
      "source": [
        "# Perform PoS tagging\n",
        "pos_tags = pos_tag(words)\n",
        "\n",
        "# Print the result\n",
        "print(\"PoS Tagging:\", pos_tags)"
      ],
      "metadata": {
        "colab": {
          "base_uri": "https://localhost:8080/"
        },
        "id": "AGakAy_RfoK2",
        "outputId": "d5662f4c-d504-4e4c-ce4f-3b0ba26d908c"
      },
      "execution_count": null,
      "outputs": [
        {
          "output_type": "stream",
          "name": "stdout",
          "text": [
            "PoS Tagging: [('My', 'PRP$'), ('name', 'NN'), ('is', 'VBZ'), ('Vamsiteja', 'NNP'), ('.', '.'), ('I', 'PRP'), (\"'m\", 'VBP'), ('from', 'IN'), ('Andhra', 'NNP'), ('Pradesh', 'NNP'), ('and', 'CC'), ('I', 'PRP'), (\"'m\", 'VBP'), ('currently', 'RB'), ('pursuing', 'VBG'), ('BE', 'NNP'), ('CSE', 'NNP'), ('AIML', 'NNP'), ('from', 'IN'), ('Chandigarh', 'NNP'), ('University', 'NNP'), ('.', '.')]\n"
          ]
        }
      ]
    },
    {
      "cell_type": "code",
      "source": [],
      "metadata": {
        "id": "rGEhyGYufojr"
      },
      "execution_count": null,
      "outputs": []
    }
  ]
}