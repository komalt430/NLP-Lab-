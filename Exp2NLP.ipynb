{
  "nbformat": 4,
  "nbformat_minor": 0,
  "metadata": {
    "colab": {
      "provenance": []
    },
    "kernelspec": {
      "name": "python3",
      "display_name": "Python 3"
    },
    "language_info": {
      "name": "python"
    }
  },
  "cells": [
    {
      "cell_type": "code",
      "execution_count": 1,
      "metadata": {
        "colab": {
          "base_uri": "https://localhost:8080/"
        },
        "id": "FsJ_lHQohrf7",
        "outputId": "4bc75a1a-d472-4594-b816-d89167399b76"
      },
      "outputs": [
        {
          "output_type": "stream",
          "name": "stderr",
          "text": [
            "[nltk_data] Downloading package punkt to /root/nltk_data...\n",
            "[nltk_data]   Unzipping tokenizers/punkt.zip.\n",
            "[nltk_data] Downloading package stopwords to /root/nltk_data...\n",
            "[nltk_data]   Unzipping corpora/stopwords.zip.\n",
            "[nltk_data] Downloading package wordnet to /root/nltk_data...\n"
          ]
        },
        {
          "output_type": "execute_result",
          "data": {
            "text/plain": [
              "True"
            ]
          },
          "metadata": {},
          "execution_count": 1
        }
      ],
      "source": [
        "import nltk\n",
        "from nltk.stem import PorterStemmer, WordNetLemmatizer\n",
        "from nltk.corpus import stopwords\n",
        "from nltk.tokenize import word_tokenize\n",
        "nltk.download('punkt')\n",
        "nltk.download('stopwords')\n",
        "nltk.download('wordnet')\n"
      ]
    },
    {
      "cell_type": "code",
      "source": [
        "# Sample text\n",
        "text = \"The quick brown foxes are jumping over the lazy dogs. The dogs are not happy.\"\n"
      ],
      "metadata": {
        "id": "kCCL_izhil62"
      },
      "execution_count": 2,
      "outputs": []
    },
    {
      "cell_type": "code",
      "source": [
        "# Tokenization\n",
        "words = word_tokenize(text.lower())  # Convert to lowercase for consistency\n"
      ],
      "metadata": {
        "id": "4e07YnFJi1g8"
      },
      "execution_count": 3,
      "outputs": []
    },
    {
      "cell_type": "code",
      "source": [
        "# Remove stopwords\n",
        "stop_words = set(stopwords.words('english'))\n",
        "filtered_words = [word for word in words if word.isalnum() and word not in stop_words]"
      ],
      "metadata": {
        "id": "bXrlSfWxi66T"
      },
      "execution_count": 4,
      "outputs": []
    },
    {
      "cell_type": "code",
      "source": [
        "# Stemming\n",
        "porter_stemmer = PorterStemmer()\n",
        "stemmed_words = [porter_stemmer.stem(word) for word in filtered_words]"
      ],
      "metadata": {
        "id": "WzWUgev1i-qF"
      },
      "execution_count": 5,
      "outputs": []
    },
    {
      "cell_type": "code",
      "source": [
        "# Lemmatization\n",
        "lemmatizer = WordNetLemmatizer()\n",
        "lemmatized_words = [lemmatizer.lemmatize(word) for word in filtered_words]\n"
      ],
      "metadata": {
        "id": "ZJwLox5ijFtX"
      },
      "execution_count": 6,
      "outputs": []
    },
    {
      "cell_type": "code",
      "source": [
        "# Print results\n",
        "print(\"Original Text:\", text)\n",
        "print(\"\\nTokenized Words:\", words)\n",
        "print(\"\\nFiltered Words (without stopwords):\", filtered_words)\n",
        "print(\"\\nStemmed Words:\", stemmed_words)\n",
        "print(\"\\nLemmatized Words:\", lemmatized_words)"
      ],
      "metadata": {
        "colab": {
          "base_uri": "https://localhost:8080/"
        },
        "id": "K5YI9Z_UjH71",
        "outputId": "2d01c9e0-ae79-4360-a2c7-2c77f568e05b"
      },
      "execution_count": 7,
      "outputs": [
        {
          "output_type": "stream",
          "name": "stdout",
          "text": [
            "Original Text: The quick brown foxes are jumping over the lazy dogs. The dogs are not happy.\n",
            "\n",
            "Tokenized Words: ['the', 'quick', 'brown', 'foxes', 'are', 'jumping', 'over', 'the', 'lazy', 'dogs', '.', 'the', 'dogs', 'are', 'not', 'happy', '.']\n",
            "\n",
            "Filtered Words (without stopwords): ['quick', 'brown', 'foxes', 'jumping', 'lazy', 'dogs', 'dogs', 'happy']\n",
            "\n",
            "Stemmed Words: ['quick', 'brown', 'fox', 'jump', 'lazi', 'dog', 'dog', 'happi']\n",
            "\n",
            "Lemmatized Words: ['quick', 'brown', 'fox', 'jumping', 'lazy', 'dog', 'dog', 'happy']\n"
          ]
        }
      ]
    }
  ]
}