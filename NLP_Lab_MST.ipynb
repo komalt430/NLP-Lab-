{
  "nbformat": 4,
  "nbformat_minor": 0,
  "metadata": {
    "colab": {
      "provenance": []
    },
    "kernelspec": {
      "name": "python3",
      "display_name": "Python 3"
    },
    "language_info": {
      "name": "python"
    }
  },
  "cells": [
    {
      "cell_type": "code",
      "execution_count": 95,
      "metadata": {
        "id": "XvXtsxZyonM9"
      },
      "outputs": [],
      "source": [
        "import nltk\n",
        "from nltk.tokenize import word_tokenize\n",
        "from nltk.corpus import stopwords\n",
        "from nltk.stem import PorterStemmer, WordNetLemmatizer\n",
        "from collections import Counter\n",
        "import re"
      ]
    },
    {
      "cell_type": "code",
      "source": [
        "nltk.download('punkt')\n",
        "nltk.download('stopwords')\n",
        "nltk.download('wordnet')\n",
        "nltk.download('averaged_perceptron_tagger')"
      ],
      "metadata": {
        "colab": {
          "base_uri": "https://localhost:8080/"
        },
        "id": "sKIDlNPwqzNj",
        "outputId": "fcde87dd-36f4-4c2b-bded-bfe8f7823dc8"
      },
      "execution_count": 96,
      "outputs": [
        {
          "output_type": "stream",
          "name": "stderr",
          "text": [
            "[nltk_data] Downloading package punkt to /root/nltk_data...\n",
            "[nltk_data]   Package punkt is already up-to-date!\n",
            "[nltk_data] Downloading package stopwords to /root/nltk_data...\n",
            "[nltk_data]   Package stopwords is already up-to-date!\n",
            "[nltk_data] Downloading package wordnet to /root/nltk_data...\n",
            "[nltk_data]   Package wordnet is already up-to-date!\n",
            "[nltk_data] Downloading package averaged_perceptron_tagger to\n",
            "[nltk_data]     /root/nltk_data...\n",
            "[nltk_data]   Unzipping taggers/averaged_perceptron_tagger.zip.\n"
          ]
        },
        {
          "output_type": "execute_result",
          "data": {
            "text/plain": [
              "True"
            ]
          },
          "metadata": {},
          "execution_count": 96
        }
      ]
    },
    {
      "cell_type": "code",
      "source": [
        "story = \"\"\"\n",
        "In the heart of a bustling city, amidst the cacophony of urban life, there stood an old, dilapidated building.\n",
        "Its walls were adorned with remnants of grandeur, once a symbol of prestige and culture. However, time had been unkind,\n",
        "leaving behind only echoes of its former glory. Yet, hidden within its decaying walls lay a secret that few knew of—a forgotten\n",
        "symphony waiting to be heard.\n",
        "\n",
        "Deep within the building, tucked away from the prying eyes of the world, lived an old man named Gregory. He was the caretaker of\n",
        "this forgotten relic, the last guardian of its lost beauty. With each passing day, he tended to the building's needs, preserving\n",
        "what little remained of its grand past.\n",
        "\n",
        "Gregory was a man of few words, his life a silent melody woven with the threads of solitude. His only companion was an ancient\n",
        "piano, its keys worn with age but still whispering tales of forgotten melodies. It was here, in the quiet embrace of this forgotten\n",
        "sanctuary, that Gregory found solace.\n",
        "\n",
        "One evening, as the sun dipped below the horizon, casting an amber glow upon the city, Gregory sat by the piano lost in thought.\n",
        "His fingers traced the keys, evoking a haunting melody that reverberated through the empty halls. It was a melody of longing, of\n",
        "dreams left unfulfilled, and of memories etched in the walls.\n",
        "\n",
        "Unbeknownst to Gregory, his music had not gone unheard. Across the street, in a tiny apartment nestled amidst the chaos of the\n",
        "city, lived a young girl named Lily. She was drawn to the melancholic strains that drifted through her window, captivating her\n",
        "restless soul.\n",
        "\n",
        "Night after night, Lily would listen to Gregory's melodies, each note stirring something deep within her. They spoke of a world\n",
        "beyond the mundane, of passions unspoken, and of a longing for connection. Intrigued by the music's allure, Lily made it her\n",
        "mission to uncover its source.\n",
        "\n",
        "With determination in her heart, Lily ventured into the abandoned building, guided by the ethereal strains of Gregory's piano.\n",
        "The once-grand halls now echoed with the whispers of time, their faded elegance a testament to the passage of years. Yet, amidst\n",
        "the decay, Lily found beauty in the forgotten, a beauty that spoke to her soul.\n",
        "\n",
        "At last, she reached the room where Gregory sat, his fingers dancing across the keys with a fervor born of years of solitude.\n",
        "He looked up, startled by her presence, yet there was a glimmer of recognition in his weary eyes.\n",
        "\n",
        "\"Who are you?\" Gregory asked, his voice a mere whisper in the silence.\n",
        "\n",
        "\"I'm Lily,\" she replied, her voice tinged with excitement. \"I've been listening to your music. It's beautiful.\"\n",
        "\n",
        "A flicker of emotion passed across Gregory's face, a long-forgotten spark reignited by Lily's words. For the first time in\n",
        "years, he felt a connection, a bond forged through the language of music.\n",
        "\n",
        "Together, Gregory and Lily breathed life into the forgotten symphony that lay dormant within the old building's walls. Their\n",
        "melodies intertwined, weaving a tapestry of sound that transcended time and space. With each note, they breathed new life into\n",
        "the forgotten, transforming decay into beauty, and solitude into companionship.\n",
        "\n",
        "And so, in the heart of the bustling city, amidst the chaos of urban life, a forgotten symphony found its voice once more,\n",
        "echoing through the night as a testament to the power of music to unite souls across the divides of time and space.\n",
        "\"\"\""
      ],
      "metadata": {
        "id": "8BjaWAqRq5VK"
      },
      "execution_count": 97,
      "outputs": []
    },
    {
      "cell_type": "code",
      "source": [
        "# Tokenization\n",
        "tokens = word_tokenize(story)\n",
        "\n",
        "print(\"Tokenization:\", tokens[:10])"
      ],
      "metadata": {
        "colab": {
          "base_uri": "https://localhost:8080/"
        },
        "id": "9X7LFYSCq6Jn",
        "outputId": "9e8bb968-dc3f-4fef-fd8a-9d49a5946251"
      },
      "execution_count": 98,
      "outputs": [
        {
          "output_type": "stream",
          "name": "stdout",
          "text": [
            "Tokenization: ['In', 'the', 'heart', 'of', 'a', 'bustling', 'city', ',', 'amidst', 'the']\n"
          ]
        }
      ]
    },
    {
      "cell_type": "code",
      "source": [
        "# Removing stopwords\n",
        "stop_words = (stopwords.words('english'))\n",
        "stop_words.extend ([',', '.'])\n",
        "filtered_tokens = [word for word in tokens if word.lower() not in stop_words]\n",
        "\n",
        "print(\"Filtered Tokens (Stopwords Removed):\", filtered_tokens[:10])"
      ],
      "metadata": {
        "colab": {
          "base_uri": "https://localhost:8080/"
        },
        "id": "9nvfUih_q-VS",
        "outputId": "2221e632-5f44-430a-b557-ff19fc8c3ac2"
      },
      "execution_count": 99,
      "outputs": [
        {
          "output_type": "stream",
          "name": "stdout",
          "text": [
            "Filtered Tokens (Stopwords Removed): ['heart', 'bustling', 'city', 'amidst', 'cacophony', 'urban', 'life', 'stood', 'old', 'dilapidated']\n"
          ]
        }
      ]
    },
    {
      "cell_type": "code",
      "source": [
        "# Stemming\n",
        "porter = PorterStemmer()\n",
        "stemmed_tokens = [porter.stem(word) for word in filtered_tokens]\n",
        "\n",
        "print(\"Stemmed Tokens:\", stemmed_tokens[:10])"
      ],
      "metadata": {
        "colab": {
          "base_uri": "https://localhost:8080/"
        },
        "id": "JfOtNHFHrGgD",
        "outputId": "2910efaf-51c4-4ecf-fd85-979345cb8b65"
      },
      "execution_count": 100,
      "outputs": [
        {
          "output_type": "stream",
          "name": "stdout",
          "text": [
            "Stemmed Tokens: ['heart', 'bustl', 'citi', 'amidst', 'cacophoni', 'urban', 'life', 'stood', 'old', 'dilapid']\n"
          ]
        }
      ]
    },
    {
      "cell_type": "code",
      "source": [
        "# Lemmatization\n",
        "lemmatizer = WordNetLemmatizer()\n",
        "lemmatized_tokens = [lemmatizer.lemmatize(word) for word in filtered_tokens]\n",
        "\n",
        "print(\"Lemmatized Tokens:\", lemmatized_tokens[:10])"
      ],
      "metadata": {
        "colab": {
          "base_uri": "https://localhost:8080/"
        },
        "id": "7S6R_PPBrKK3",
        "outputId": "7e57afd8-0529-4e66-e620-d14329c73448"
      },
      "execution_count": 101,
      "outputs": [
        {
          "output_type": "stream",
          "name": "stdout",
          "text": [
            "Lemmatized Tokens: ['heart', 'bustling', 'city', 'amidst', 'cacophony', 'urban', 'life', 'stood', 'old', 'dilapidated']\n"
          ]
        }
      ]
    },
    {
      "cell_type": "code",
      "source": [
        "# Frequency distribution\n",
        "frequency_distribution = Counter(lemmatized_tokens)\n",
        "\n",
        "print(\"Frequency Distribution:\", frequency_distribution.most_common(10))"
      ],
      "metadata": {
        "colab": {
          "base_uri": "https://localhost:8080/"
        },
        "id": "lL0YO2f8rMAC",
        "outputId": "a422e416-1264-467f-9520-abdd00c0fafe"
      },
      "execution_count": 102,
      "outputs": [
        {
          "output_type": "stream",
          "name": "stdout",
          "text": [
            "Frequency Distribution: [('Gregory', 11), ('forgotten', 8), (\"'s\", 8), ('Lily', 8), ('melody', 6), ('life', 5), ('building', 5), ('time', 5), ('music', 5), ('city', 4)]\n"
          ]
        }
      ]
    },
    {
      "cell_type": "code",
      "source": [
        "# POS tagging\n",
        "tagged_tokens = nltk.pos_tag(filtered_tokens)"
      ],
      "metadata": {
        "id": "R9YmEqHa4kgx"
      },
      "execution_count": 103,
      "outputs": []
    },
    {
      "cell_type": "code",
      "source": [
        "# Function to extract main character using POS tags\n",
        "def extract_main_character(tagged_tokens):\n",
        "    character_names = [\"Gregory\", \"Lily\"]\n",
        "    character_counts = Counter([word for word, tag in tagged_tokens if tag.startswith('NNP') and word in character_names])\n",
        "    main_character = character_counts.most_common(1)[0][0] if character_counts else None\n",
        "    return main_character\n",
        "\n",
        "main_character = extract_main_character(tagged_tokens)\n",
        "\n",
        "print(\"Main Character:\", main_character)"
      ],
      "metadata": {
        "colab": {
          "base_uri": "https://localhost:8080/"
        },
        "id": "GZmWB7tO4o7G",
        "outputId": "ac58a7f4-c5ae-4f3e-dd55-9ceef8073d4e"
      },
      "execution_count": 106,
      "outputs": [
        {
          "output_type": "stream",
          "name": "stdout",
          "text": [
            "Main Character: Gregory\n"
          ]
        }
      ]
    },
    {
      "cell_type": "code",
      "source": [
        "# Get main character\n",
        "character_names = [\"Gregory\", \"Lily\"]\n",
        "character_counts = Counter([word for word in lemmatized_tokens if word in character_names])\n",
        "\n",
        "main_character = character_counts.most_common(1)[0][0] if character_counts else None\n",
        "\n",
        "print(\"Main Character:\", main_character)"
      ],
      "metadata": {
        "colab": {
          "base_uri": "https://localhost:8080/"
        },
        "id": "p9XUD5_KrSdZ",
        "outputId": "e42fdd73-d142-46df-be29-165e760127d2"
      },
      "execution_count": 105,
      "outputs": [
        {
          "output_type": "stream",
          "name": "stdout",
          "text": [
            "Main Character: Gregory\n"
          ]
        }
      ]
    }
  ]
}