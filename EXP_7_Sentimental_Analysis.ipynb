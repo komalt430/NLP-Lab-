{
  "nbformat": 4,
  "nbformat_minor": 0,
  "metadata": {
    "colab": {
      "provenance": []
    },
    "kernelspec": {
      "name": "python3",
      "display_name": "Python 3"
    },
    "language_info": {
      "name": "python"
    }
  },
  "cells": [
    {
      "cell_type": "code",
      "execution_count": null,
      "metadata": {
        "colab": {
          "base_uri": "https://localhost:8080/"
        },
        "id": "He276dKEnRiq",
        "outputId": "eb6d2d2a-e404-4699-8171-6501b28c2a1f"
      },
      "outputs": [
        {
          "output_type": "stream",
          "name": "stderr",
          "text": [
            "[nltk_data] Downloading package punkt to /root/nltk_data...\n",
            "[nltk_data]   Unzipping tokenizers/punkt.zip.\n"
          ]
        },
        {
          "output_type": "execute_result",
          "data": {
            "text/plain": [
              "True"
            ]
          },
          "metadata": {},
          "execution_count": 1
        }
      ],
      "source": [
        "import nltk\n",
        "import random\n",
        "from nltk.corpus import movie_reviews\n",
        "from nltk.classify import NaiveBayesClassifier\n",
        "from nltk.classify.util import accuracy\n",
        "nltk.download('punkt')"
      ]
    },
    {
      "cell_type": "code",
      "source": [
        "# Download movie reviews dataset\n",
        "nltk.download('movie_reviews')\n"
      ],
      "metadata": {
        "colab": {
          "base_uri": "https://localhost:8080/"
        },
        "id": "UrDrkx3Oq_YN",
        "outputId": "c649e2dd-b087-4c80-8ac1-f89515f0fd9a"
      },
      "execution_count": null,
      "outputs": [
        {
          "output_type": "stream",
          "name": "stderr",
          "text": [
            "[nltk_data] Downloading package movie_reviews to /root/nltk_data...\n",
            "[nltk_data]   Unzipping corpora/movie_reviews.zip.\n"
          ]
        },
        {
          "output_type": "execute_result",
          "data": {
            "text/plain": [
              "True"
            ]
          },
          "metadata": {},
          "execution_count": 2
        }
      ]
    },
    {
      "cell_type": "code",
      "source": [
        "# Define function to extract features from words\n",
        "def extract_features(words):\n",
        "    return dict([(word, True) for word in words])\n",
        "\n",
        "# Load movie reviews and extract features\n",
        "documents = [(list(movie_reviews.words(fileid)), category)\n",
        "             for category in movie_reviews.categories()\n",
        "             for fileid in movie_reviews.fileids(category)]\n",
        "\n",
        "# Shuffle the documents\n",
        "random.shuffle(documents)\n",
        "\n",
        "# Extract features from the movie reviews\n",
        "featuresets = [(extract_features(words), category) for words, category in documents]\n",
        "\n",
        "# Split the dataset into training and testing sets\n",
        "train_set, test_set = featuresets[:1600], featuresets[1600:]\n",
        "\n",
        "# Train a Naive Bayes classifier\n",
        "classifier = NaiveBayesClassifier.train(train_set)\n",
        "# Test the classifier accuracy\n",
        "accuracy_score = accuracy(classifier, test_set)\n",
        "print(\"Accuracy:\", accuracy_score)"
      ],
      "metadata": {
        "colab": {
          "base_uri": "https://localhost:8080/"
        },
        "id": "QYVewcRFrF9O",
        "outputId": "66f07a55-1391-41f4-8cf8-900405f49c21"
      },
      "execution_count": null,
      "outputs": [
        {
          "output_type": "stream",
          "name": "stdout",
          "text": [
            "Accuracy: 0.7175\n"
          ]
        }
      ]
    },
    {
      "cell_type": "code",
      "source": [
        "# Example: Test the classifier with custom movie reviews\n",
        "custom_reviews = [\n",
        "    \"This movie is fantastic!\",\n",
        "    \"I disliked this movie, it's terrible.\",\n",
        "    \"The acting was good, but the plot was weak.\",\n",
        "    \"The movie exceeded my expectations, highly recommend it.\"]\n",
        "for review in custom_reviews:\n",
        "    words = nltk.word_tokenize(review)\n",
        "    features = extract_features(words)\n",
        "    sentiment = classifier.classify(features)\n",
        "    print(f'Review: {review} / Sentiment: {sentiment}')"
      ],
      "metadata": {
        "colab": {
          "base_uri": "https://localhost:8080/"
        },
        "id": "y6HAWGYvrgr4",
        "outputId": "b50d85b5-ec88-49ba-cc61-5e80ca2af995"
      },
      "execution_count": null,
      "outputs": [
        {
          "output_type": "stream",
          "name": "stdout",
          "text": [
            "Review: This movie is fantastic! / Sentiment: pos\n",
            "Review: I disliked this movie, it's terrible. / Sentiment: neg\n",
            "Review: The acting was good, but the plot was weak. / Sentiment: neg\n",
            "Review: The movie exceeded my expectations, highly recommend it. / Sentiment: pos\n"
          ]
        }
      ]
    },
    {
      "cell_type": "code",
      "source": [],
      "metadata": {
        "id": "DqjwvcIcr-Ef"
      },
      "execution_count": null,
      "outputs": []
    }
  ]
}