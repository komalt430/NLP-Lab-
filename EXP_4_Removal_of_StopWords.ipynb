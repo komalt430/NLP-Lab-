{
  "nbformat": 4,
  "nbformat_minor": 0,
  "metadata": {
    "colab": {
      "provenance": []
    },
    "kernelspec": {
      "name": "python3",
      "display_name": "Python 3"
    },
    "language_info": {
      "name": "python"
    }
  },
  "cells": [
    {
      "cell_type": "markdown",
      "source": [
        "**Removal of StopWords using NLTK**"
      ],
      "metadata": {
        "id": "9-HDtgPQgVnA"
      }
    },
    {
      "cell_type": "code",
      "source": [
        "import nltk\n",
        "nltk.download('stopwords')\n",
        "nltk.download('punkt')\n",
        "from nltk.corpus import stopwords\n",
        "from nltk.tokenize import word_tokenize"
      ],
      "metadata": {
        "colab": {
          "base_uri": "https://localhost:8080/"
        },
        "id": "aW1hu6KCexyL",
        "outputId": "86d9cdde-b116-4c8d-f54a-f1e2b93d6536"
      },
      "execution_count": null,
      "outputs": [
        {
          "output_type": "stream",
          "name": "stderr",
          "text": [
            "[nltk_data] Downloading package stopwords to /root/nltk_data...\n",
            "[nltk_data]   Package stopwords is already up-to-date!\n",
            "[nltk_data] Downloading package punkt to /root/nltk_data...\n",
            "[nltk_data]   Unzipping tokenizers/punkt.zip.\n"
          ]
        }
      ]
    },
    {
      "cell_type": "code",
      "source": [
        "def remove_stopwords(text):\n",
        "    words = word_tokenize(text)\n",
        "    stop_words = set(stopwords.words('english'))\n",
        "    filtered_words = [word for word in words if word.lower() not in stop_words]\n",
        "    filtered_text = ' '.join(filtered_words)\n",
        "    return filtered_text\n",
        "\n",
        "    num_words_after_removal = len(filtered_words)\n",
        "\n",
        "input_text = \"Tokenization is an important step in natural language processing.\"\n",
        "output_text = remove_stopwords(input_text)\n",
        "\n",
        "print(\"Input Text: \", input_text)\n",
        "print(\"Filtered Text: \", output_text)"
      ],
      "metadata": {
        "colab": {
          "base_uri": "https://localhost:8080/"
        },
        "id": "mBXQW4U8e9wj",
        "outputId": "de6d8a2a-bc71-4332-e1c7-33b5f38b2158"
      },
      "execution_count": null,
      "outputs": [
        {
          "output_type": "stream",
          "name": "stdout",
          "text": [
            "Input Text:  Tokenization is an important step in natural language processing.\n",
            "Filtered Text:  Tokenization important step natural language processing .\n"
          ]
        }
      ]
    },
    {
      "cell_type": "code",
      "source": [
        "stop_words = stopwords.words('english')\n",
        "print(stop_words[:15])"
      ],
      "metadata": {
        "colab": {
          "base_uri": "https://localhost:8080/"
        },
        "id": "SQX42mC4fva6",
        "outputId": "76d20317-6e3d-4700-b9f2-44c2d1645867"
      },
      "execution_count": null,
      "outputs": [
        {
          "output_type": "stream",
          "name": "stdout",
          "text": [
            "['i', 'me', 'my', 'myself', 'we', 'our', 'ours', 'ourselves', 'you', \"you're\", \"you've\", \"you'll\", \"you'd\", 'your', 'yours']\n"
          ]
        }
      ]
    },
    {
      "cell_type": "code",
      "source": [
        "len(stop_words)"
      ],
      "metadata": {
        "colab": {
          "base_uri": "https://localhost:8080/"
        },
        "id": "bMKdSGCYfxoA",
        "outputId": "1700642f-afff-4cb3-f7fc-b36f6b16042c"
      },
      "execution_count": null,
      "outputs": [
        {
          "output_type": "execute_result",
          "data": {
            "text/plain": [
              "179"
            ]
          },
          "metadata": {},
          "execution_count": 11
        }
      ]
    },
    {
      "cell_type": "code",
      "source": [
        "str(stop_words)"
      ],
      "metadata": {
        "colab": {
          "base_uri": "https://localhost:8080/",
          "height": 122
        },
        "id": "k2BQb-R_f07z",
        "outputId": "21c9a7b5-d085-4cee-b751-a9a561103fb3"
      },
      "execution_count": null,
      "outputs": [
        {
          "output_type": "execute_result",
          "data": {
            "text/plain": [
              "'[\\'i\\', \\'me\\', \\'my\\', \\'myself\\', \\'we\\', \\'our\\', \\'ours\\', \\'ourselves\\', \\'you\\', \"you\\'re\", \"you\\'ve\", \"you\\'ll\", \"you\\'d\", \\'your\\', \\'yours\\', \\'yourself\\', \\'yourselves\\', \\'he\\', \\'him\\', \\'his\\', \\'himself\\', \\'she\\', \"she\\'s\", \\'her\\', \\'hers\\', \\'herself\\', \\'it\\', \"it\\'s\", \\'its\\', \\'itself\\', \\'they\\', \\'them\\', \\'their\\', \\'theirs\\', \\'themselves\\', \\'what\\', \\'which\\', \\'who\\', \\'whom\\', \\'this\\', \\'that\\', \"that\\'ll\", \\'these\\', \\'those\\', \\'am\\', \\'is\\', \\'are\\', \\'was\\', \\'were\\', \\'be\\', \\'been\\', \\'being\\', \\'have\\', \\'has\\', \\'had\\', \\'having\\', \\'do\\', \\'does\\', \\'did\\', \\'doing\\', \\'a\\', \\'an\\', \\'the\\', \\'and\\', \\'but\\', \\'if\\', \\'or\\', \\'because\\', \\'as\\', \\'until\\', \\'while\\', \\'of\\', \\'at\\', \\'by\\', \\'for\\', \\'with\\', \\'about\\', \\'against\\', \\'between\\', \\'into\\', \\'through\\', \\'during\\', \\'before\\', \\'after\\', \\'above\\', \\'below\\', \\'to\\', \\'from\\', \\'up\\', \\'down\\', \\'in\\', \\'out\\', \\'on\\', \\'off\\', \\'over\\', \\'under\\', \\'again\\', \\'further\\', \\'then\\', \\'once\\', \\'here\\', \\'there\\', \\'when\\', \\'where\\', \\'why\\', \\'how\\', \\'all\\', \\'any\\', \\'both\\', \\'each\\', \\'few\\', \\'more\\', \\'most\\', \\'other\\', \\'some\\', \\'such\\', \\'no\\', \\'nor\\', \\'not\\', \\'only\\', \\'own\\', \\'same\\', \\'so\\', \\'than\\', \\'too\\', \\'very\\', \\'s\\', \\'t\\', \\'can\\', \\'will\\', \\'just\\', \\'don\\', \"don\\'t\", \\'should\\', \"should\\'ve\", \\'now\\', \\'d\\', \\'ll\\', \\'m\\', \\'o\\', \\'re\\', \\'ve\\', \\'y\\', \\'ain\\', \\'aren\\', \"aren\\'t\", \\'couldn\\', \"couldn\\'t\", \\'didn\\', \"didn\\'t\", \\'doesn\\', \"doesn\\'t\", \\'hadn\\', \"hadn\\'t\", \\'hasn\\', \"hasn\\'t\", \\'haven\\', \"haven\\'t\", \\'isn\\', \"isn\\'t\", \\'ma\\', \\'mightn\\', \"mightn\\'t\", \\'mustn\\', \"mustn\\'t\", \\'needn\\', \"needn\\'t\", \\'shan\\', \"shan\\'t\", \\'shouldn\\', \"shouldn\\'t\", \\'wasn\\', \"wasn\\'t\", \\'weren\\', \"weren\\'t\", \\'won\\', \"won\\'t\", \\'wouldn\\', \"wouldn\\'t\"]'"
            ],
            "application/vnd.google.colaboratory.intrinsic+json": {
              "type": "string"
            }
          },
          "metadata": {},
          "execution_count": 12
        }
      ]
    },
    {
      "cell_type": "code",
      "source": [],
      "metadata": {
        "id": "KmbWJ6suf3V3"
      },
      "execution_count": null,
      "outputs": []
    }
  ]
}