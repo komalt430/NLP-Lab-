{
  "nbformat": 4,
  "nbformat_minor": 0,
  "metadata": {
    "colab": {
      "provenance": []
    },
    "kernelspec": {
      "name": "python3",
      "display_name": "Python 3"
    },
    "language_info": {
      "name": "python"
    }
  },
  "cells": [
    {
      "cell_type": "markdown",
      "source": [
        "**FINDING THE FREQUENCY OF THE WORDS IN A TEXT**"
      ],
      "metadata": {
        "id": "jgAJCFdZlQUk"
      }
    },
    {
      "cell_type": "code",
      "source": [
        "from nltk import FreqDist\n",
        "text = \"Vamsi Teja Mogilipalem uses cool computer stuff to understand how we talk and write. Vamsi Teja Mogilipalem loves playing with words and figuring out what they mean using fancy tech. And Vamsi Teja Mogilipalem is really good at making computers understand our language better.\"\n",
        "words = text.split()\n",
        "fdist1 = FreqDist(words)\n",
        "print(fdist1)\n",
        "print(fdist1.most_common())"
      ],
      "metadata": {
        "colab": {
          "base_uri": "https://localhost:8080/"
        },
        "id": "6Z9KNR8hd8q7",
        "outputId": "6c623b9e-1bc7-43eb-f7c9-192ed3ab418b"
      },
      "execution_count": null,
      "outputs": [
        {
          "output_type": "stream",
          "name": "stdout",
          "text": [
            "<FreqDist with 36 samples and 44 outcomes>\n",
            "[('Vamsi', 3), ('Teja', 3), ('Mogilipalem', 3), ('understand', 2), ('and', 2), ('uses', 1), ('cool', 1), ('computer', 1), ('stuff', 1), ('to', 1), ('how', 1), ('we', 1), ('talk', 1), ('write.', 1), ('loves', 1), ('playing', 1), ('with', 1), ('words', 1), ('figuring', 1), ('out', 1), ('what', 1), ('they', 1), ('mean', 1), ('using', 1), ('fancy', 1), ('tech.', 1), ('And', 1), ('is', 1), ('really', 1), ('good', 1), ('at', 1), ('making', 1), ('computers', 1), ('our', 1), ('language', 1), ('better.', 1)]\n"
          ]
        }
      ]
    },
    {
      "cell_type": "code",
      "source": [
        "print(freq_dist.most_common(6))"
      ],
      "metadata": {
        "colab": {
          "base_uri": "https://localhost:8080/"
        },
        "id": "IGY4D6ZtfLnz",
        "outputId": "c8dab524-8894-4179-ac20-ccf22cf0986d"
      },
      "execution_count": null,
      "outputs": [
        {
          "output_type": "stream",
          "name": "stdout",
          "text": [
            "[('Vamsi', 3), ('Teja', 3), ('Mogilipalem', 3), ('.', 3), ('understand', 2), ('and', 2)]\n"
          ]
        }
      ]
    },
    {
      "cell_type": "markdown",
      "source": [
        "**CHUNKING THE SENTENCES**"
      ],
      "metadata": {
        "id": "O3JdwOTOl7Sq"
      }
    },
    {
      "cell_type": "code",
      "source": [
        "# Define a grammar for chunking\n",
        "grammar = r\"\"\"NP: {<DT>?<JJ>*<NN>} # Chunk sequences of DT, JJ, NN \"\"\"\n",
        "# Create a chunk parser with the defined grammar\n",
        "chunk_parser = RegexpParser(grammar)\n",
        "\n",
        "# Perform chunking\n",
        "chunked_sentence = chunk_parser.parse(nltk.pos_tag(words))\n",
        "\n",
        "# Print the chunks\n",
        "print(\"\\nChunks:\")\n",
        "print(chunked_sentence)"
      ],
      "metadata": {
        "colab": {
          "base_uri": "https://localhost:8080/"
        },
        "id": "qGrC_ggFhXNB",
        "outputId": "127676c0-f915-41f6-c51d-01a0d6adde8f"
      },
      "execution_count": null,
      "outputs": [
        {
          "output_type": "stream",
          "name": "stdout",
          "text": [
            "\n",
            "Chunks:\n",
            "(S\n",
            "  Vamsi/NNP\n",
            "  Teja/NNP\n",
            "  Mogilipalem/NNP\n",
            "  uses/VBZ\n",
            "  (NP cool/JJ computer/NN)\n",
            "  (NP stuff/NN)\n",
            "  to/TO\n",
            "  understand/VB\n",
            "  how/WRB\n",
            "  we/PRP\n",
            "  talk/VBP\n",
            "  and/CC\n",
            "  write./VBP\n",
            "  Vamsi/NNP\n",
            "  Teja/NNP\n",
            "  Mogilipalem/NNP\n",
            "  loves/VBZ\n",
            "  playing/VBG\n",
            "  with/IN\n",
            "  words/NNS\n",
            "  and/CC\n",
            "  figuring/VBG\n",
            "  out/RP\n",
            "  what/WP\n",
            "  they/PRP\n",
            "  mean/VBP\n",
            "  using/VBG\n",
            "  (NP fancy/NN)\n",
            "  (NP tech./NN)\n",
            "  And/CC\n",
            "  Vamsi/NNP\n",
            "  Teja/NNP\n",
            "  Mogilipalem/NNP\n",
            "  is/VBZ\n",
            "  really/RB\n",
            "  good/JJ\n",
            "  at/IN\n",
            "  making/VBG\n",
            "  computers/NNS\n",
            "  understand/VB\n",
            "  our/PRP$\n",
            "  (NP language/NN)\n",
            "  (NP better./NN))\n"
          ]
        }
      ]
    },
    {
      "cell_type": "code",
      "source": [],
      "metadata": {
        "id": "090WhF0hkr3F"
      },
      "execution_count": null,
      "outputs": []
    }
  ]
}